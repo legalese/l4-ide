{
 "cells": [
  {
   "cell_type": "markdown",
   "id": "9f1f6882",
   "metadata": {},
   "source": [
    "# Experiments with using Instructor JS and our decision service api\n",
    "\n",
    "* Trying to figure out what schemas / types info the API should provide, so that a consumer can use one of these schema/grammar x llm libraries easily with the API\n",
    "* Should also be helpful to just see how easy it is to use one of these popular libraries with the API\n",
    "* A notebook like this should also make it easier for other people to run their own experiments"
   ]
  },
  {
   "cell_type": "code",
   "execution_count": 10,
   "id": "a142a461",
   "metadata": {},
   "outputs": [
    {
     "data": {
      "text/plain": [
       "\u001b[32m\"../../.env.local\"\u001b[39m"
      ]
     },
     "execution_count": 10,
     "metadata": {},
     "output_type": "execute_result"
    }
   ],
   "source": [
    "process.env.envPath = '../../.env.local'\n",
    "\n",
    "import { APIClient } from '../lib/decision-api-client/api.ts'\n",
    "import { appConfig } from '../config.ts'\n",
    "\n",
    "\n",
    "const client = await APIClient.make(appConfig)\n"
   ]
  },
  {
   "cell_type": "markdown",
   "id": "9ea01ef1",
   "metadata": {},
   "source": [
    "## Some GETs, to see what fns are currently loaded, and to check that the configuration is OK"
   ]
  },
  {
   "cell_type": "code",
   "execution_count": 11,
   "id": "f97ec0ea",
   "metadata": {},
   "outputs": [
    {
     "data": {
      "text/plain": [
       "[\n",
       "  {\n",
       "    function: {\n",
       "      description: \u001b[32m\"Determines if a person qualifies for the purposes of the rule.\\n\"\u001b[39m +\n",
       "        \u001b[32m\"The input object describes the person's properties in the primary parameters: walks, eats, drinks.\\n\"\u001b[39m +\n",
       "        \u001b[32m\"Secondary parameters can be given which are sufficient to determine some of the primary parameters.\\n\"\u001b[39m +\n",
       "        \u001b[32m\"A person drinks whether or not they consume an alcoholic or a non-alcoholic beverage, in part or in whole;\\n\"\u001b[39m +\n",
       "        \u001b[32m\"those specific details don't really matter.\\n\"\u001b[39m +\n",
       "        \u001b[32m\"The output of the function can be either a request for required information;\\n\"\u001b[39m +\n",
       "        \u001b[32m\"a restatement of the user input requesting confirmation prior to function calling;\\n\"\u001b[39m +\n",
       "        \u001b[32m\"or a Boolean answer with optional explanation summary.\"\u001b[39m,\n",
       "      name: \u001b[32m\"compute_qualifies\"\u001b[39m\n",
       "    },\n",
       "    type: \u001b[32m\"function\"\u001b[39m\n",
       "  },\n",
       "  {\n",
       "    function: {\n",
       "      description: \u001b[32m\"We do not cover any loss or damage caused by rodents, insects, vermin, or birds.\\n\"\u001b[39m +\n",
       "        \u001b[32m\"However, this exclusion does not apply to:\\n\"\u001b[39m +\n",
       "        \u001b[32m\"a) loss or damage to your contents caused by birds; or\\n\"\u001b[39m +\n",
       "        \u001b[32m\"b) ensuing covered loss unless any other exclusion applies or where an animal causes water to escape from\\n\"\u001b[39m +\n",
       "        \u001b[32m\"  a household appliance, swimming pool or plumbing, heating or air conditioning system\"\u001b[39m,\n",
       "      name: \u001b[32m\"vermin_and_rodent\"\u001b[39m\n",
       "    },\n",
       "    type: \u001b[32m\"function\"\u001b[39m\n",
       "  }\n",
       "]"
      ]
     },
     "execution_count": 11,
     "metadata": {},
     "output_type": "execute_result"
    }
   ],
   "source": [
    "await client.getSimpleFunctionEndpoints()"
   ]
  },
  {
   "cell_type": "code",
   "execution_count": 22,
   "id": "ccde7ed0",
   "metadata": {},
   "outputs": [
    {
     "data": {
      "text/plain": [
       "Map(2) {\n",
       "  \u001b[32m\"compute_qualifies\"\u001b[39m => {\n",
       "    function: {\n",
       "      description: \u001b[32m\"Determines if a person qualifies for the purposes of the rule.\\n\"\u001b[39m +\n",
       "        \u001b[32m\"The input object describes the person's properties in the primary parameters: walks, eats, drinks.\\n\"\u001b[39m +\n",
       "        \u001b[32m\"Secondary parameters can be given which are sufficient to determine some of the primary parameters.\\n\"\u001b[39m +\n",
       "        \u001b[32m\"A person drinks whether or not they consume an alcoholic or a non-alcoholic beverage, in part or in whole;\\n\"\u001b[39m +\n",
       "        \u001b[32m\"those specific details don't really matter.\\n\"\u001b[39m +\n",
       "        \u001b[32m\"The output of the function can be either a request for required information;\\n\"\u001b[39m +\n",
       "        \u001b[32m\"a restatement of the user input requesting confirmation prior to function calling;\\n\"\u001b[39m +\n",
       "        \u001b[32m\"or a Boolean answer with optional explanation summary.\"\u001b[39m,\n",
       "      name: \u001b[32m\"compute_qualifies\"\u001b[39m,\n",
       "      parameters: {\n",
       "        properties: { drinks: \u001b[36m[Object]\u001b[39m, eats: \u001b[36m[Object]\u001b[39m, walks: \u001b[36m[Object]\u001b[39m },\n",
       "        type: \u001b[32m\"object\"\u001b[39m\n",
       "      },\n",
       "      supportedBackends: []\n",
       "    },\n",
       "    type: \u001b[32m\"function\"\u001b[39m\n",
       "  },\n",
       "  \u001b[32m\"vermin_and_rodent\"\u001b[39m => {\n",
       "    function: {\n",
       "      description: \u001b[32m\"We do not cover any loss or damage caused by rodents, insects, vermin, or birds.\\n\"\u001b[39m +\n",
       "        \u001b[32m\"However, this exclusion does not apply to:\\n\"\u001b[39m +\n",
       "        \u001b[32m\"a) loss or damage to your contents caused by birds; or\\n\"\u001b[39m +\n",
       "        \u001b[32m\"b) ensuing covered loss unless any other exclusion applies or where an animal causes water to escape from\\n\"\u001b[39m +\n",
       "        \u001b[32m\"  a household appliance, swimming pool or plumbing, heating or air conditioning system\"\u001b[39m,\n",
       "      name: \u001b[32m\"vermin_and_rodent\"\u001b[39m,\n",
       "      parameters: {\n",
       "        properties: {\n",
       "          \u001b[32m\"Loss or Damage.caused by birds\"\u001b[39m: \u001b[36m[Object]\u001b[39m,\n",
       "          \u001b[32m\"Loss or Damage.caused by insects\"\u001b[39m: \u001b[36m[Object]\u001b[39m,\n",
       "          \u001b[32m\"Loss or Damage.caused by rodents\"\u001b[39m: \u001b[36m[Object]\u001b[39m,\n",
       "          \u001b[32m\"Loss or Damage.caused by vermin\"\u001b[39m: \u001b[36m[Object]\u001b[39m,\n",
       "          \u001b[32m\"Loss or Damage.ensuing covered loss\"\u001b[39m: \u001b[36m[Object]\u001b[39m,\n",
       "          \u001b[32m\"Loss or Damage.to Contents\"\u001b[39m: \u001b[36m[Object]\u001b[39m,\n",
       "          \u001b[32m\"a household appliance\"\u001b[39m: \u001b[36m[Object]\u001b[39m,\n",
       "          \u001b[32m\"a plumbing, heating, or air conditioning system\"\u001b[39m: \u001b[36m[Object]\u001b[39m,\n",
       "          \u001b[32m\"a swimming pool\"\u001b[39m: \u001b[36m[Object]\u001b[39m,\n",
       "          \u001b[32m\"any other exclusion applies\"\u001b[39m: \u001b[36m[Object]\u001b[39m\n",
       "        },\n",
       "        type: \u001b[32m\"object\"\u001b[39m\n",
       "      },\n",
       "      supportedBackends: []\n",
       "    },\n",
       "    type: \u001b[32m\"function\"\u001b[39m\n",
       "  }\n",
       "}"
      ]
     },
     "execution_count": 22,
     "metadata": {},
     "output_type": "execute_result"
    }
   ],
   "source": [
    "const detailedEndpointMap = await client.getDetailedEndpointInfoMap()\n",
    "detailedEndpointMap"
   ]
  },
  {
   "cell_type": "code",
   "execution_count": 23,
   "id": "26b925a6",
   "metadata": {},
   "outputs": [
    {
     "data": {
      "text/plain": [
       "{\n",
       "  properties: {\n",
       "    \u001b[32m\"Loss or Damage.caused by birds\"\u001b[39m: {\n",
       "      alias: \u001b[1mnull\u001b[22m,\n",
       "      description: \u001b[32m\"Was the damage caused by birds?\"\u001b[39m,\n",
       "      enum: [ \u001b[32m\"true\"\u001b[39m, \u001b[32m\"false\"\u001b[39m ],\n",
       "      type: \u001b[32m\"string\"\u001b[39m\n",
       "    },\n",
       "    \u001b[32m\"Loss or Damage.caused by insects\"\u001b[39m: {\n",
       "      alias: \u001b[1mnull\u001b[22m,\n",
       "      description: \u001b[32m\"Was the damage caused by insects?\"\u001b[39m,\n",
       "      enum: [ \u001b[32m\"true\"\u001b[39m, \u001b[32m\"false\"\u001b[39m ],\n",
       "      type: \u001b[32m\"string\"\u001b[39m\n",
       "    },\n",
       "    \u001b[32m\"Loss or Damage.caused by rodents\"\u001b[39m: {\n",
       "      alias: \u001b[1mnull\u001b[22m,\n",
       "      description: \u001b[32m\"Was the damage caused by rodents?\"\u001b[39m,\n",
       "      enum: [ \u001b[32m\"true\"\u001b[39m, \u001b[32m\"false\"\u001b[39m ],\n",
       "      type: \u001b[32m\"string\"\u001b[39m\n",
       "    },\n",
       "    \u001b[32m\"Loss or Damage.caused by vermin\"\u001b[39m: {\n",
       "      alias: \u001b[1mnull\u001b[22m,\n",
       "      description: \u001b[32m\"Was the damage caused by vermin?\"\u001b[39m,\n",
       "      enum: [ \u001b[32m\"true\"\u001b[39m, \u001b[32m\"false\"\u001b[39m ],\n",
       "      type: \u001b[32m\"string\"\u001b[39m\n",
       "    },\n",
       "    \u001b[32m\"Loss or Damage.ensuing covered loss\"\u001b[39m: {\n",
       "      alias: \u001b[1mnull\u001b[22m,\n",
       "      description: \u001b[32m\"Is the damage ensuing covered loss\"\u001b[39m,\n",
       "      enum: [ \u001b[32m\"true\"\u001b[39m, \u001b[32m\"false\"\u001b[39m ],\n",
       "      type: \u001b[32m\"string\"\u001b[39m\n",
       "    },\n",
       "    \u001b[32m\"Loss or Damage.to Contents\"\u001b[39m: {\n",
       "      alias: \u001b[1mnull\u001b[22m,\n",
       "      description: \u001b[32m\"Is the damage to your contents?\"\u001b[39m,\n",
       "      enum: [ \u001b[32m\"true\"\u001b[39m, \u001b[32m\"false\"\u001b[39m ],\n",
       "      type: \u001b[32m\"string\"\u001b[39m\n",
       "    },\n",
       "    \u001b[32m\"a household appliance\"\u001b[39m: {\n",
       "      alias: \u001b[1mnull\u001b[22m,\n",
       "      description: \u001b[32m\"Did water escape from a household appliance due to an animal?\"\u001b[39m,\n",
       "      enum: [ \u001b[32m\"true\"\u001b[39m, \u001b[32m\"false\"\u001b[39m ],\n",
       "      type: \u001b[32m\"string\"\u001b[39m\n",
       "    },\n",
       "    \u001b[32m\"a plumbing, heating, or air conditioning system\"\u001b[39m: {\n",
       "      alias: \u001b[1mnull\u001b[22m,\n",
       "      description: \u001b[32m\"Did water escape from a plumbing, heating or conditioning system due to an animal?\"\u001b[39m,\n",
       "      enum: [ \u001b[32m\"true\"\u001b[39m, \u001b[32m\"false\"\u001b[39m ],\n",
       "      type: \u001b[32m\"string\"\u001b[39m\n",
       "    },\n",
       "    \u001b[32m\"a swimming pool\"\u001b[39m: {\n",
       "      alias: \u001b[1mnull\u001b[22m,\n",
       "      description: \u001b[32m\"Did water escape from a swimming pool due to an animal?\"\u001b[39m,\n",
       "      enum: [ \u001b[32m\"true\"\u001b[39m, \u001b[32m\"false\"\u001b[39m ],\n",
       "      type: \u001b[32m\"string\"\u001b[39m\n",
       "    },\n",
       "    \u001b[32m\"any other exclusion applies\"\u001b[39m: {\n",
       "      alias: \u001b[1mnull\u001b[22m,\n",
       "      description: \u001b[32m\"Are any other exclusions besides mentioned ones?\"\u001b[39m,\n",
       "      enum: [ \u001b[32m\"true\"\u001b[39m, \u001b[32m\"false\"\u001b[39m ],\n",
       "      type: \u001b[32m\"string\"\u001b[39m\n",
       "    }\n",
       "  },\n",
       "  type: \u001b[32m\"object\"\u001b[39m\n",
       "}"
      ]
     },
     "execution_count": 23,
     "metadata": {},
     "output_type": "execute_result"
    }
   ],
   "source": [
    "detailedEndpointMap.get(\"vermin_and_rodent\").function.parameters"
   ]
  },
  {
   "cell_type": "markdown",
   "id": "12e9f90d",
   "metadata": {},
   "source": [
    "### Try a quick simple example with Instructor"
   ]
  },
  {
   "cell_type": "code",
   "execution_count": 24,
   "id": "91751354",
   "metadata": {},
   "outputs": [],
   "source": [
    "import Instructor from \"@instructor-ai/instructor\";\n",
    "import OpenAI from \"openai\"\n",
    "import { z } from \"zod\"\n",
    "\n",
    "const oai = new OpenAI({\n",
    "    apiKey: appConfig.getLlmApiKey(),\n",
    "    organization: process.env.OPENAI_ORG_ID ?? undefined\n",
    "  })\n",
    "\n",
    "const instrClient = Instructor({\n",
    "  client: oai,\n",
    "  mode: \"TOOLS\"\n",
    "})"
   ]
  },
  {
   "cell_type": "code",
   "execution_count": 25,
   "id": "32365692",
   "metadata": {},
   "outputs": [
    {
     "data": {
      "text/plain": [
       "{\n",
       "  \u001b[32m\"Loss or Damage.caused by birds\"\u001b[39m: \u001b[32m\"false\"\u001b[39m,\n",
       "  \u001b[32m\"Loss or Damage.caused by insects\"\u001b[39m: \u001b[32m\"false\"\u001b[39m,\n",
       "  \u001b[32m\"Loss or Damage.caused by rodents\"\u001b[39m: \u001b[32m\"true\"\u001b[39m,\n",
       "  \u001b[32m\"Loss or Damage.caused by vermin\"\u001b[39m: \u001b[32m\"false\"\u001b[39m,\n",
       "  \u001b[32m\"Loss or Damage.ensuing covered loss\"\u001b[39m: \u001b[32m\"false\"\u001b[39m,\n",
       "  \u001b[32m\"Loss or Damage.to Contents\"\u001b[39m: \u001b[32m\"false\"\u001b[39m,\n",
       "  \u001b[32m\"a household appliance\"\u001b[39m: \u001b[32m\"false\"\u001b[39m,\n",
       "  \u001b[32m\"a plumbing, heating, or air conditioning system\"\u001b[39m: \u001b[32m\"true\"\u001b[39m,\n",
       "  \u001b[32m\"a swimming pool\"\u001b[39m: \u001b[32m\"false\"\u001b[39m,\n",
       "  \u001b[32m\"any other exclusion applies\"\u001b[39m: \u001b[32m\"false\"\u001b[39m,\n",
       "  _meta: {\n",
       "    usage: {\n",
       "      prompt_tokens: \u001b[33m347\u001b[39m,\n",
       "      completion_tokens: \u001b[33m93\u001b[39m,\n",
       "      total_tokens: \u001b[33m440\u001b[39m,\n",
       "      prompt_tokens_details: { cached_tokens: \u001b[33m0\u001b[39m, audio_tokens: \u001b[33m0\u001b[39m },\n",
       "      completion_tokens_details: {\n",
       "        reasoning_tokens: \u001b[33m0\u001b[39m,\n",
       "        audio_tokens: \u001b[33m0\u001b[39m,\n",
       "        accepted_prediction_tokens: \u001b[33m0\u001b[39m,\n",
       "        rejected_prediction_tokens: \u001b[33m0\u001b[39m\n",
       "      }\n",
       "    },\n",
       "    thinking: \u001b[90mundefined\u001b[39m\n",
       "  }\n",
       "}"
      ]
     },
     "execution_count": 25,
     "metadata": {},
     "output_type": "execute_result"
    }
   ],
   "source": [
    "import { makeFunctionParamSchema } from '../lib/query/query-schemas.ts'\n",
    "\n",
    "const quickVerminPrompt = \"I'm trying to figure out if I can claim for damage to my AC -- a rat crawled into it, did some ratty things, and now it no longer works. I am able to call a function that can help me check this. Here's the parameters for said function. Please construct json parameters for this function that I can use to call it.\"\n",
    "\n",
    "const verminFnInfo = await client.getInfoFor(\"vermin_and_rodent\")\n",
    "const VerminParamSchema = makeFunctionParamSchema(verminFnInfo)\n",
    "\n",
    "const sampleVerminExtractParams: z.infer<typeof VerminParamSchema> = await instrClient.chat.completions.create({\n",
    "    messages: [{ role: \"user\", content: quickVerminPrompt }],\n",
    "    model: \"gpt-4o\",\n",
    "    response_model: { \n",
    "      schema: VerminParamSchema, \n",
    "      name: \"ExtractParams\"\n",
    "    }\n",
    "  })\n",
    "\n",
    "sampleVerminExtractParams"
   ]
  },
  {
   "cell_type": "code",
   "execution_count": 26,
   "id": "fa7f8206",
   "metadata": {},
   "outputs": [
    {
     "data": {
      "text/plain": [
       "{\n",
       "  ok: {\n",
       "    contents: {\n",
       "      reasoning: { payload: { children: \u001b[36m[Array]\u001b[39m, payload: \u001b[36m[Object]\u001b[39m } },\n",
       "      values: [ [ \u001b[32m\"result\"\u001b[39m, \u001b[32m\"TRUE\"\u001b[39m ] ]\n",
       "    },\n",
       "    tag: \u001b[32m\"SimpleResponse\"\u001b[39m\n",
       "  },\n",
       "  error: \u001b[90mundefined\u001b[39m\n",
       "}"
      ]
     },
     "execution_count": 26,
     "metadata": {},
     "output_type": "execute_result"
    }
   ],
   "source": [
    "// Try calling the dec service API\n",
    "\n",
    "await client.evalFunctionEndpoint(endpointNameToExperimentWith, finalSampleVerminExtractParams as z.infer<typeof VerminParamSchema>)\n"
   ]
  }
 ],
 "metadata": {
  "kernelspec": {
   "display_name": "Deno",
   "language": "typescript",
   "name": "deno"
  },
  "language_info": {
   "codemirror_mode": "typescript",
   "file_extension": ".ts",
   "mimetype": "text/x.typescript",
   "name": "typescript",
   "nbconvert_exporter": "script",
   "pygments_lexer": "typescript",
   "version": "5.7.3"
  }
 },
 "nbformat": 4,
 "nbformat_minor": 5
}
